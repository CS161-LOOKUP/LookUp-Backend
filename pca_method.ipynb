{
 "cells": [
  {
   "cell_type": "code",
   "execution_count": 2,
   "metadata": {},
   "outputs": [],
   "source": [
    "import pandas as pd\n",
    "import csv\n",
    "import json\n",
    "import sys\n",
    "from sklearn.decomposition import PCA\n",
    "import numpy as np"
   ]
  },
  {
   "cell_type": "code",
   "execution_count": 3,
   "metadata": {},
   "outputs": [],
   "source": [
    "with open('./user.json') as json_file:\n",
    "    data = json.load(json_file)\n",
    "data_file = open('data_file.csv', 'w')\n",
    "csv_writer = csv.writer(data_file)\n",
    "count = 0\n",
    "for user in data:\n",
    "    if count == 0:\n",
    "        header = user.keys()\n",
    "        csv_writer.writerow(header)\n",
    "        count += 1\n",
    "    csv_writer.writerow(user.values())\n",
    "data_file.close()\n",
    "data = pd.read_csv('./data_file.csv')"
   ]
  },
  {
   "cell_type": "code",
   "execution_count": 4,
   "metadata": {},
   "outputs": [],
   "source": [
    "model = PCA(n_components=3)"
   ]
  },
  {
   "cell_type": "code",
   "execution_count": 5,
   "metadata": {},
   "outputs": [
    {
     "output_type": "execute_result",
     "data": {
      "text/plain": "PCA(copy=True, iterated_power='auto', n_components=3, random_state=None,\n    svd_solver='auto', tol=0.0, whiten=False)"
     },
     "metadata": {},
     "execution_count": 5
    }
   ],
   "source": [
    "model.fit(data.to_numpy()[:,1:].astype(float))"
   ]
  },
  {
   "cell_type": "markdown",
   "metadata": {},
   "source": [
    "Test"
   ]
  },
  {
   "cell_type": "code",
   "execution_count": 6,
   "metadata": {},
   "outputs": [],
   "source": [
    "\n",
    "transformed_data = model.transform(data.to_numpy()[:,1:].astype(float))\n",
    "\n",
    "def get_neighbors(user, top_n):\n",
    "    transformed = model.transform(np.array(user).reshape(1, 12))\n",
    "    \n",
    "    dists = sorted(zip(np.sum((transformed_data - transformed)**2, axis=1), data['id']))\n",
    "    return [name for d,name in dists[:top_n]]\n",
    "    \n",
    "    "
   ]
  },
  {
   "cell_type": "code",
   "execution_count": 7,
   "metadata": {},
   "outputs": [
    {
     "output_type": "stream",
     "name": "stdout",
     "text": "['5ea68c106ddde418977df494', '5ea68c106ddde418977df475', '5ea68c106ddde418977df4c4', '5ea68c106ddde418977df488', '5ea68c106ddde418977df47b', '5ea68c106ddde418977df4c9', '5ea68c106ddde418977df473', '5ea68c106ddde418977df48d', '5ea68c106ddde418977df495', '5ea68c106ddde418977df471']\n"
    }
   ],
   "source": [
    "print(get_neighbors([1]*12, 10))"
   ]
  },
  {
   "cell_type": "code",
   "execution_count": null,
   "metadata": {},
   "outputs": [],
   "source": []
  }
 ],
 "metadata": {
  "kernelspec": {
   "display_name": "Python 3",
   "language": "python",
   "name": "python3"
  },
  "language_info": {
   "codemirror_mode": {
    "name": "ipython",
    "version": 3
   },
   "file_extension": ".py",
   "mimetype": "text/x-python",
   "name": "python",
   "nbconvert_exporter": "python",
   "pygments_lexer": "ipython3",
   "version": "3.7.4-final"
  }
 },
 "nbformat": 4,
 "nbformat_minor": 2
}